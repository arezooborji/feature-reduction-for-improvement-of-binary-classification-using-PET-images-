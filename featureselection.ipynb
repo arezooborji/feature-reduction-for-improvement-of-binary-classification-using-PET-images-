{
  "cells": [
    {
      "cell_type": "code",
      "execution_count": null,
      "metadata": {
        "id": "d70ef57b"
      },
      "outputs": [],
      "source": [
        "from google.colab import drive\n",
        "drive.mount('/gdrive')\n",
        "%cd /gdrive/MyDrive"
      ],
      "id": "d70ef57b"
    },
    {
      "cell_type": "code",
      "execution_count": null,
      "metadata": {
        "id": "f7096121"
      },
      "outputs": [],
      "source": [
        "%matplotlib inline\n",
        "import matplotlib.pyplot as plt\n",
        "import numpy as np\n",
        "import nibabel as nib\n",
        "import glob\n",
        "import os\n",
        "\n",
        "from sklearn.metrics import accuracy_score,f1_score,precision_score,recall_score,roc_curve,auc\n",
        "from sklearn.model_selection import train_test_split\n",
        "\n",
        "from sklearn.svm import SVC, LinearSVC\n",
        "from sklearn.linear_model import LogisticRegression\n",
        "from sklearn.feature_selection import SelectKBest, RFE, chi2, mutual_info_classif\n",
        "from sklearn import svm\n",
        "\n",
        "from sklearn.ensemble import AdaBoostClassifier, RandomForestClassifier\n",
        "from sklearn.tree import DecisionTreeClassifier\n",
        "\n",
        "from sklearn.decomposition import PCA\n",
        "from sklearn.manifold import MDS, TSNE"
      ],
      "id": "f7096121"
    },
    {
      "cell_type": "code",
      "execution_count": null,
      "metadata": {
        "id": "b09eaa4d"
      },
      "outputs": [],
      "source": [
        "with open('/gdrive/My Drive/foo.txt', 'w') as f:\n",
        "  f.write('Hello Google Drive!')\n",
        "!cat '/gdrive/My Drive/foo.txt'"
      ],
      "id": "b09eaa4d"
    },
    {
      "cell_type": "code",
      "execution_count": null,
      "metadata": {
        "id": "895edcbf"
      },
      "outputs": [],
      "source": [
        "groups = ['class1' , 'class2']\n",
        "dataset_addr = 'your address'\n",
        "\n",
        "# Feature selection percent\n",
        "tresh_percent = 0.8\n",
        "\n",
        "# GA parameters\n",
        "num_pop = 50\n",
        "num_gen = 200\n",
        "alpha = 0.5;\n",
        "SF = 1;\n",
        "CR = 0.8;\n",
        "MR = 0.3;"
      ],
      "id": "895edcbf"
    },
    {
      "cell_type": "code",
      "execution_count": null,
      "metadata": {
        "id": "7c95de86"
      },
      "outputs": [],
      "source": [
        "# Getting the data\n",
        "\n",
        "temp_data = dict()\n",
        "temp_label = dict()\n",
        "for class_num, gr in enumerate(groups):\n",
        "    gr_addr = gr\n",
        "\n",
        "    file_list = glob.glob(dataset_addr + gr_addr + '/[!cwy]*.nii')\n",
        "    img = nib.load(file_list[0])\n",
        "    V = np.squeeze(np.array(img.dataobj))\n",
        "    num_subj = len(file_list)\n",
        "    num_raw_feat = V.size\n",
        "    temp_data[gr] = np.zeros((num_subj,num_raw_feat))\n",
        "    temp_label[gr] = np.zeros(num_subj,dtype='bool')\n",
        "    for s_num , file in enumerate(file_list):\n",
        "        img = nib.load(file)\n",
        "        V = np.squeeze(np.array(img.dataobj))\n",
        "        temp_data[gr][s_num,:] = V.flatten()\n",
        "        temp_label[gr][s_num] = class_num\n",
        "\n",
        "\n",
        "y = np.concatenate((temp_label[groups[0]],temp_label[groups[1]]))\n",
        "X = np.concatenate((temp_data[groups[0]],temp_data[groups[1]]),axis=0)"
      ],
      "id": "7c95de86"
    },
    {
      "cell_type": "code",
      "execution_count": null,
      "metadata": {
        "id": "f0c0eaf1"
      },
      "outputs": [],
      "source": [
        "def plot_clustering(X_red, labels, title):\n",
        "    x_min, x_max = np.min(X_red, axis=0), np.max(X_red, axis=0)\n",
        "    X_red = (X_red - x_min) / (x_max - x_min)\n",
        "\n",
        "    plt.figure(figsize=(6,3), dpi=160)\n",
        "    plt.scatter(X_red[labels == True, 0], X_red[labels == True, 1],  marker='^')\n",
        "    plt.scatter(X_red[labels == False, 0], X_red[labels == False, 1], marker='o')\n",
        "    plt.xticks([])\n",
        "    plt.yticks([])\n",
        "    plt.title(title, size=17)\n",
        "    plt.axis('off')\n",
        "    plt.tight_layout(rect=[0, 0.03, 1, 0.95])\n",
        "    plt.show()"
      ],
      "id": "f0c0eaf1"
    },
    {
      "cell_type": "code",
      "execution_count": null,
      "metadata": {
        "id": "cCa7OCnRxXs5"
      },
      "outputs": [],
      "source": [
        "class feature_selector():\n",
        "\n",
        "    def __init__(self,alldata,labels):\n",
        "\n",
        "        self._X_full = alldata\n",
        "        self._y = np.zeros(labels.shape)\n",
        "        self._y[labels == True] = 1\n",
        "        self.selected = np.ones(self._X_full.shape[1], dtype = np.bool)\n",
        "\n",
        "    def t_test_paper(self,tresh_percent):\n",
        "\n",
        "        X_in = self._X_full[:,self.selected]\n",
        "        class_ind = self._y == 0\n",
        "        mu_1 = np.mean(X_in[class_ind,:],axis=0)\n",
        "        var_1 = np.var(X_in[class_ind,:],axis=0,ddof=1)\n",
        "        n_1 = np.sum(class_ind)\n",
        "\n",
        "        class_ind = self._y == 1\n",
        "        mu_2 = np.mean(X_in[class_ind,:],axis=0)\n",
        "        var_2 = np.var(X_in[class_ind,:],axis=0,ddof=1)\n",
        "        n_2 = np.sum(class_ind)\n",
        "\n",
        "        t_values = (mu_1-mu_2)/np.sqrt(var_1/n_1+var_2/n_2)\n",
        "        thresh_val = tresh_percent * np.max(np.abs(t_values))\n",
        "        new_idx = np.abs(t_values) > thresh_val\n",
        "        self.selected[self.selected] = new_idx\n",
        "\n",
        "        return self.selected, t_values\n",
        "\n",
        "    def ga_paper(self,num_pop,num_gen,alpha,SF,CR,MR):\n",
        "\n",
        "        X_train = self._X_full[:,self.selected]\n",
        "        labels_train = self._y\n",
        "        num_feat = X_train.shape[1]\n",
        "        best_f = +np.infty\n",
        "        best_f_vec = list([])\n",
        "        chromo_mat = np.random.randint(2,size=(num_pop,num_feat),dtype=bool)\n",
        "\n",
        "        for gen in range(num_gen):\n",
        "\n",
        "            # Evaluation phase\n",
        "            fitness_vec = np.array([self._calculate_scatter_matrix(X_train,labels_train,chromo_mat[chr,:],alpha) for chr in range(num_pop)])\n",
        "            min_fit = np.amin(fitness_vec)\n",
        "            min_ind = np.argmin(fitness_vec)\n",
        "            if(min_fit < best_f):\n",
        "                best_f = min_fit\n",
        "                best_f_vec.append(best_f)\n",
        "                best_chromo = chromo_mat[min_ind,np.newaxis]\n",
        "\n",
        "            # Selection\n",
        "            p_vec = fitness_vec**SF\n",
        "            p_vec = p_vec/np.sum(p_vec)\n",
        "            cum_p_vec = np.cumsum(p_vec)\n",
        "            chromo_ind = np.sum(cum_p_vec < np.random.rand(num_pop -1,1),axis=1)\n",
        "            chromo_mat = np.concatenate((best_chromo,chromo_mat[chromo_ind,:]),axis = 0)\n",
        "\n",
        "            # Crossover\n",
        "            for chr in range(0, num_pop, 2):\n",
        "                if np.random.rand() < CR:\n",
        "                    split_loc = np.random.randint(1, chromo_mat.shape[1])\n",
        "                    temp = chromo_mat[chr,:split_loc].copy()\n",
        "                    chromo_mat[chr,:split_loc] = chromo_mat[chr + 1,:split_loc]\n",
        "                    chromo_mat[chr + 1,:split_loc] = temp\n",
        "\n",
        "            # Mutation\n",
        "            mu_inds = np.random.rand(*chromo_mat.shape) < MR\n",
        "            chromo_mat[mu_inds] = 1 - chromo_mat[mu_inds]\n",
        "\n",
        "        self.selected[self.selected] = np.squeeze(best_chromo)\n",
        "        return self.selected, best_f_vec\n",
        "\n",
        "    def chi2_method(self,keep_percent):\n",
        "\n",
        "        X_in = self._X_full[:,self.selected]\n",
        "        print(X_in.shape)\n",
        "        print(X_in.min())\n",
        "        print(X_in.max())\n",
        "\n",
        "        red_num = np.ceil(X_in.shape[1] * keep_percent).astype(np.int)\n",
        "\n",
        "        print(red_num)\n",
        "\n",
        "        feat_selector = SelectKBest(chi2, k = red_num)\n",
        "        feat_selector = feat_selector.fit(X_in, self._y)\n",
        "        self.selected[self.selected] = feat_selector.get_support()\n",
        "        return self.selected\n",
        "\n",
        "    def mi_method(self,keep_percent):\n",
        "\n",
        "        X_in = self._X_full[:,self.selected]\n",
        "        red_num = np.ceil(X_in.shape[1] * keep_percent).astype(np.int)\n",
        "\n",
        "        feat_selector = SelectKBest(mutual_info_classif, k = red_num)\n",
        "        feat_selector = feat_selector.fit(X_in, self._y)\n",
        "        self.selected[self.selected] = feat_selector.get_support()\n",
        "        return self.selected\n",
        "\n",
        "    def rfe_method(self,estimator, keep_percent, remove_num):\n",
        "\n",
        "        X_in = self._X_full[:,self.selected]\n",
        "        red_num = np.ceil(X_in.shape[1] * keep_percent).astype(np.int)\n",
        "\n",
        "        feat_selector = RFE(estimator, n_features_to_select=red_num, step=remove_num)\n",
        "        feat_selector = feat_selector.fit(X_in, self._y)\n",
        "        self.selected[self.selected] = feat_selector.get_support()\n",
        "        return self.selected\n",
        "\n",
        "    def _calculate_scatter_matrix(self,X, labels, chromo, alpha):\n",
        "\n",
        "        class_1_inds = labels == 0\n",
        "        class_2_inds = labels == 1\n",
        "        X_truncated_1 = X[np.ix_(class_1_inds,chromo)]\n",
        "        X_truncated_2 = X[np.ix_(class_2_inds,chromo)]\n",
        "        mu_1 = np.mean(X_truncated_1,axis=0,keepdims=True)\n",
        "        mu_2 = np.mean(X_truncated_2,axis=0,keepdims=True)\n",
        "        S_B = np.matmul(np.transpose(mu_1 - mu_2),(mu_1 - mu_2));\n",
        "        X_til_1 = X_truncated_1 - mu_1\n",
        "        X_til_2 = X_truncated_2 - mu_2\n",
        "        S_W_1 = np.matmul(np.transpose(X_til_1),(X_til_1));\n",
        "        S_W_2 = np.matmul(np.transpose(X_til_2),(X_til_2));\n",
        "        S_W = S_W_1/X_til_1.shape[0] + S_W_2/X_til_2.shape[0]\n",
        "        E = np.trace(S_W)/np.trace(S_B)\n",
        "        RF = np.sum(chromo)/chromo.size\n",
        "        Z = E * (1 + alpha * RF)\n",
        "        return Z\n",
        ""
      ],
      "id": "cCa7OCnRxXs5"
    },
    {
      "cell_type": "code",
      "execution_count": null,
      "metadata": {
        "id": "7b31cd26"
      },
      "outputs": [],
      "source": [
        "# Shuffle and split training and test sets\n",
        "X_train, X_test, y_train, y_test = train_test_split(X, y, test_size=0.3)"
      ],
      "id": "7b31cd26"
    },
    {
      "cell_type": "code",
      "execution_count": null,
      "metadata": {
        "colab": {
          "background_save": true
        },
        "id": "Z8mbbvOUxrQx"
      },
      "outputs": [],
      "source": [
        "# Feature selection percent for paper's method\n",
        "tresh_percent = 0.8\n",
        "\n",
        "# GA parameters for paper's method\n",
        "num_pop = 50\n",
        "num_gen = 200\n",
        "alpha = 0.5;\n",
        "SF = 1;\n",
        "CR = 0.8;\n",
        "MR = 0.3;\n",
        "\n",
        "feat_sel_1 = feature_selector(X_train,y_train)\n",
        "feat_idx, t_vals = feat_sel_1.t_test_paper(tresh_percent)\n",
        "feat_idx, f_vecs = feat_sel_1.ga_paper(num_pop,num_gen,alpha,SF,CR,MR)\n",
        "\n",
        "X_train_reduced = X_train[:,feat_idx]\n",
        "X_test_reduced = X_test[:,feat_idx]"
      ],
      "id": "Z8mbbvOUxrQx"
    },
    {
      "cell_type": "code",
      "execution_count": null,
      "metadata": {
        "id": "76e40176"
      },
      "outputs": [],
      "source": [
        "# Our own method for featrue extraction\n",
        "feat_sel_2 = feature_selector(X_train,y_train)\n",
        "# feat_idx = feat_sel_2.chi2_method(keep_percent=0.1)\n",
        "feat_idx = feat_sel_2.t_test_paper(tresh_percent)\n",
        "feat_idx = feat_sel_2.mi_method(keep_percent=0.5)\n",
        "#feat_idx, f_vecs = feat_sel_2.ga_paper(num_pop,num_gen,alpha,SF,CR,MR)\n",
        "#feat_idx = feat_sel_2.rfe_method(estimator=LogisticRegression(solver='lbfgs',max_iter=1000), keep_percent=0.1, remove_num=0.01)\n",
        "#feat_idx = feat_sel_2.rfe_method(estimator=LinearSVC(), keep_percent=0.1, remove_num=0.01)\n",
        "print(np.sum(feat_idx))\n",
        "X_train_reduced = X_train[:,feat_idx]\n",
        "X_test_reduced = X_test[:,feat_idx]"
      ],
      "id": "76e40176"
    },
    {
      "cell_type": "code",
      "execution_count": null,
      "metadata": {
        "id": "8eb573ed"
      },
      "outputs": [],
      "source": [
        "# Classify the data\n",
        "classifier = svm.SVC(kernel=\"rbf\")\n",
        "y_score = classifier.fit(X_train_reduced, y_train).decision_function(X_test_reduced)\n",
        "y_labels = y_score > 0"
      ],
      "id": "8eb573ed"
    },
    {
      "cell_type": "code",
      "execution_count": null,
      "metadata": {
        "id": "d676c564"
      },
      "outputs": [],
      "source": [
        "# Compute metrics\n",
        "\n",
        "acc_s = accuracy_score(y_test, y_labels)\n",
        "f1_s = f1_score(y_test, y_labels)\n",
        "pre_s = precision_score(y_test, y_labels)\n",
        "recall_s = recall_score(y_test, y_labels)\n",
        "\n",
        "print('accuracy score = ',acc_s)\n",
        "print('f1 score = ',f1_s)\n",
        "print('precision score = ',pre_s)\n",
        "print('recall score = ',recall_s)\n",
        "\n",
        "#Compute ROC curve and ROC area for each class\n",
        "#fpr, tpr, _ = roc_curve(y_test, y_score)\n",
        "#roc_auc = auc(fpr, tpr)\n",
        "#print('AUC = ' , roc_auc)"
      ],
      "id": "d676c564"
    },
    {
      "cell_type": "code",
      "execution_count": null,
      "metadata": {
        "id": "d169e602"
      },
      "outputs": [],
      "source": [],
      "id": "d169e602"
    }
  ],
  "metadata": {
    "colab": {
      "provenance": []
    },
    "gpuClass": "standard",
    "kernelspec": {
      "display_name": "Python 3",
      "language": "python",
      "name": "python3"
    },
    "language_info": {
      "codemirror_mode": {
        "name": "ipython",
        "version": 3
      },
      "file_extension": ".py",
      "mimetype": "text/x-python",
      "name": "python",
      "nbconvert_exporter": "python",
      "pygments_lexer": "ipython3",
      "version": "3.7.4"
    }
  },
  "nbformat": 4,
  "nbformat_minor": 5
}